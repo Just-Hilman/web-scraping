{
 "cells": [
  {
   "attachments": {},
   "cell_type": "markdown",
   "metadata": {},
   "source": [
    "## Objectives\n",
    "- Use webscraping to gather list of hockey teams and their information"
   ]
  },
  {
   "attachments": {},
   "cell_type": "markdown",
   "metadata": {},
   "source": [
    "### Import Libraries\n",
    "I using several python libraries for this project:\n",
    "- pandas\n",
    "- request\n",
    "- BeautifulSoup\n",
    "- html5lib\n",
    "- lxml\n",
    "- urllib"
   ]
  },
  {
   "cell_type": "code",
   "execution_count": 1,
   "metadata": {},
   "outputs": [],
   "source": [
    "import pandas as pd\n",
    "import requests\n",
    "from bs4 import BeautifulSoup\n",
    "import html5lib\n",
    "import lxml\n",
    "from urllib.parse import urljoin"
   ]
  },
  {
   "attachments": {},
   "cell_type": "markdown",
   "metadata": {},
   "source": [
    "### Extract Data Using Web Scraping\n",
    "The book list webpage https://www.scrapethissite.com/ provide information about list of hockey teams as well as their Team Name, Year, Wins, Losses, and etc. We will scrape the data for all teams in the list and store it in csv files. "
   ]
  },
  {
   "attachments": {},
   "cell_type": "markdown",
   "metadata": {},
   "source": [
    "### Webpage Contents\n",
    "Gather the contents of the webpage and convert into text format using the `requests` library and assign it to variable `html_data`"
   ]
  },
  {
   "cell_type": "code",
   "execution_count": 87,
   "metadata": {},
   "outputs": [],
   "source": [
    "url = 'https://www.scrapethissite.com/pages/forms/?page_num=1'\n",
    "html_data = requests.get(url).text"
   ]
  },
  {
   "cell_type": "code",
   "execution_count": 4,
   "metadata": {},
   "outputs": [],
   "source": [
    "# print(html_data)"
   ]
  },
  {
   "attachments": {},
   "cell_type": "markdown",
   "metadata": {},
   "source": [
    "### Scraping the data\n",
    "Using the contents and `beautiful soup` load the data from webpage into `pandas` dataframe.\n",
    "\n",
    "Using BeautifulSoup parse the contents of the webpage."
   ]
  },
  {
   "cell_type": "code",
   "execution_count": 107,
   "metadata": {},
   "outputs": [],
   "source": [
    "soup = BeautifulSoup(html_data, \"html.parser\")"
   ]
  },
  {
   "cell_type": "code",
   "execution_count": 108,
   "metadata": {},
   "outputs": [],
   "source": [
    "tables_rows = soup.find_all('tr')"
   ]
  },
  {
   "cell_type": "code",
   "execution_count": 109,
   "metadata": {},
   "outputs": [
    {
     "data": {
      "text/plain": [
       "26"
      ]
     },
     "execution_count": 109,
     "metadata": {},
     "output_type": "execute_result"
    }
   ],
   "source": [
    "len(tables_rows)"
   ]
  },
  {
   "cell_type": "code",
   "execution_count": 119,
   "metadata": {},
   "outputs": [
    {
     "data": {
      "text/plain": [
       "<tr class=\"team\">\n",
       "<td class=\"name\">\n",
       "                            Chicago Blackhawks\n",
       "                        </td>\n",
       "<td class=\"year\">\n",
       "                            1990\n",
       "                        </td>\n",
       "<td class=\"wins\">\n",
       "                            49\n",
       "                        </td>\n",
       "<td class=\"losses\">\n",
       "                            23\n",
       "                        </td>\n",
       "<td class=\"ot-losses\">\n",
       "</td>\n",
       "<td class=\"pct text-success\">\n",
       "                            0.613\n",
       "                        </td>\n",
       "<td class=\"gf\">\n",
       "                            284\n",
       "                        </td>\n",
       "<td class=\"ga\">\n",
       "                            211\n",
       "                        </td>\n",
       "<td class=\"diff text-success\">\n",
       "                            73\n",
       "                        </td>\n",
       "</tr>"
      ]
     },
     "execution_count": 119,
     "metadata": {},
     "output_type": "execute_result"
    }
   ],
   "source": [
    "tables_rows[4]"
   ]
  },
  {
   "cell_type": "code",
   "execution_count": 74,
   "metadata": {},
   "outputs": [
    {
     "name": "stdout",
     "output_type": "stream",
     "text": [
      "25\n"
     ]
    }
   ],
   "source": [
    "for index, row in enumerate(tables_rows):\n",
    "    rows_index = index\n",
    "print(rows_index)"
   ]
  },
  {
   "cell_type": "code",
   "execution_count": null,
   "metadata": {},
   "outputs": [],
   "source": [
    "for col in tables_rows[rows_index].find_all(\"td\"):\n",
    "    "
   ]
  },
  {
   "cell_type": "code",
   "execution_count": 105,
   "metadata": {},
   "outputs": [
    {
     "ename": "KeyError",
     "evalue": "0",
     "output_type": "error",
     "traceback": [
      "\u001b[1;31m---------------------------------------------------------------------------\u001b[0m",
      "\u001b[1;31mKeyError\u001b[0m                                  Traceback (most recent call last)",
      "Cell \u001b[1;32mIn[105], line 6\u001b[0m\n\u001b[0;32m      4\u001b[0m     column \u001b[39m=\u001b[39m row\u001b[39m.\u001b[39mfind_all(\u001b[39m\"\u001b[39m\u001b[39mtd\u001b[39m\u001b[39m\"\u001b[39m)\n\u001b[0;32m      5\u001b[0m     \u001b[39mfor\u001b[39;00m j, col \u001b[39min\u001b[39;00m \u001b[39menumerate\u001b[39m(column):\n\u001b[1;32m----> 6\u001b[0m         col[\u001b[39m0\u001b[39;49m]\n\u001b[0;32m      7\u001b[0m \u001b[39m#         team_name = col[0].text\u001b[39;00m\n\u001b[0;32m      8\u001b[0m \u001b[39m#         year = col[1].text.strip()\u001b[39;00m\n\u001b[0;32m      9\u001b[0m \u001b[39m#         wins = col[2].text.strip()\u001b[39;00m\n\u001b[1;32m   (...)\u001b[0m\n\u001b[0;32m     16\u001b[0m \u001b[39m#         hockey_teams_data.append({\"Team Name\": team_name, \"Year\": year, \"Wins\": wins, \"Losses\": losses, \"OT Losses\": ot_losses, \"Win Rate(%)\": win_rate, \"Goals for (GF)\": gf, \"Goals Againts (GA)\": ga, \"Difference\": difference}, ignore_index=True)\u001b[39;00m\n\u001b[0;32m     17\u001b[0m \u001b[39m# hockey_teams_data\u001b[39;00m\n",
      "File \u001b[1;32m~\\AppData\\Roaming\\Python\\Python310\\site-packages\\bs4\\element.py:1529\u001b[0m, in \u001b[0;36mTag.__getitem__\u001b[1;34m(self, key)\u001b[0m\n\u001b[0;32m   1526\u001b[0m \u001b[39mdef\u001b[39;00m \u001b[39m__getitem__\u001b[39m(\u001b[39mself\u001b[39m, key):\n\u001b[0;32m   1527\u001b[0m \u001b[39m    \u001b[39m\u001b[39m\"\"\"tag[key] returns the value of the 'key' attribute for the Tag,\u001b[39;00m\n\u001b[0;32m   1528\u001b[0m \u001b[39m    and throws an exception if it's not there.\"\"\"\u001b[39;00m\n\u001b[1;32m-> 1529\u001b[0m     \u001b[39mreturn\u001b[39;00m \u001b[39mself\u001b[39;49m\u001b[39m.\u001b[39;49mattrs[key]\n",
      "\u001b[1;31mKeyError\u001b[0m: 0"
     ]
    }
   ],
   "source": [
    "hockey_teams_data = pd.DataFrame(columns=[\"Team Name\", \"Year\", \"Wins\", \"Losses\", \"OT Losses\", \"Win Rate(%)\", \"Goals for (GF)\", \"Goals Againts (GA)\", \"Difference\"])\n",
    "\n",
    "for row in tables_rows[rows_index].find_all(\"td\"):\n",
    "    col = row.find_all(\"td\")\n",
    "    if (col != []):\n",
    "        team_name = col[0].text\n",
    "        # year = col[1].text.strip()\n",
    "        # wins = col[2].text.strip()\n",
    "        # losses = col[3].text.strip()\n",
    "        # ot_losses = col[4].text.strip()\n",
    "        # win_rate = col[5].text.strip()\n",
    "        # gf = col[6].text.strip()\n",
    "        # ga = col[7].text.strip()\n",
    "        # difference = col[8].text.strip()\n",
    "        # hockey_teams_data.append({\"Team Name\": team_name, \"Year\": year, \"Wins\": wins, \"Losses\": losses, \"OT Losses\": ot_losses, \"Win Rate(%)\": win_rate, \"Goals for (GF)\": gf, \"Goals Againts (GA)\": ga, \"Difference\": difference}, ignore_index=True)\n",
    "hockey_teams_data"
   ]
  }
 ],
 "metadata": {
  "kernelspec": {
   "display_name": "Python 3",
   "language": "python",
   "name": "python3"
  },
  "language_info": {
   "codemirror_mode": {
    "name": "ipython",
    "version": 3
   },
   "file_extension": ".py",
   "mimetype": "text/x-python",
   "name": "python",
   "nbconvert_exporter": "python",
   "pygments_lexer": "ipython3",
   "version": "3.10.10"
  },
  "orig_nbformat": 4
 },
 "nbformat": 4,
 "nbformat_minor": 2
}
